{
 "cells": [
  {
   "cell_type": "code",
   "execution_count": 1,
   "id": "869de935",
   "metadata": {},
   "outputs": [],
   "source": [
    "a = 1\n",
    "b = 1\n",
    "k = a+b\n",
    "k = k + True"
   ]
  },
  {
   "cell_type": "code",
   "execution_count": 2,
   "id": "be882c47",
   "metadata": {},
   "outputs": [
    {
     "data": {
      "text/plain": [
       "3"
      ]
     },
     "execution_count": 2,
     "metadata": {},
     "output_type": "execute_result"
    }
   ],
   "source": [
    "k"
   ]
  },
  {
   "cell_type": "code",
   "execution_count": 3,
   "id": "5eb616dc",
   "metadata": {},
   "outputs": [
    {
     "name": "stdout",
     "output_type": "stream",
     "text": [
      "300 -100\n"
     ]
    }
   ],
   "source": [
    "def f(x = 100, y = 100): \n",
    "    return(x+y, x-y) \n",
    "x, y = f(y = 200, x = 100) \n",
    "print(x, y)"
   ]
  },
  {
   "cell_type": "code",
   "execution_count": 4,
   "id": "d3a24372",
   "metadata": {},
   "outputs": [
    {
     "name": "stdout",
     "output_type": "stream",
     "text": [
      "False\n"
     ]
    }
   ],
   "source": [
    "print(0.1+0.2==0.3)\n"
   ]
  },
  {
   "cell_type": "code",
   "execution_count": 5,
   "id": "d2283c4a",
   "metadata": {},
   "outputs": [
    {
     "name": "stdout",
     "output_type": "stream",
     "text": [
      "10 9 8 7 6 5 4 3 2 1 "
     ]
    }
   ],
   "source": [
    "lst = [1,2,3,4,5,6,7,8,9,10]\n",
    "for i in range(len(lst)-1, -1, -1):\n",
    "    print( lst[i] , end = ' ')"
   ]
  },
  {
   "cell_type": "code",
   "execution_count": 6,
   "id": "c3665b82",
   "metadata": {},
   "outputs": [
    {
     "name": "stdout",
     "output_type": "stream",
     "text": [
      "25\n",
      "<class 'int'>\n"
     ]
    }
   ],
   "source": [
    "tuple1=(25)\n",
    "print(tuple1)\n",
    "print(type(tuple1))"
   ]
  },
  {
   "cell_type": "code",
   "execution_count": 8,
   "id": "83aae8a9",
   "metadata": {},
   "outputs": [
    {
     "name": "stdout",
     "output_type": "stream",
     "text": [
      "10\n"
     ]
    }
   ],
   "source": [
    "var = 10\n",
    "def foo():\n",
    "    var = 15\n",
    "foo()\n",
    "print(var)"
   ]
  },
  {
   "cell_type": "code",
   "execution_count": 13,
   "id": "a7a8bd73",
   "metadata": {},
   "outputs": [
    {
     "name": "stdout",
     "output_type": "stream",
     "text": [
      "abcd\n"
     ]
    }
   ],
   "source": [
    "x = 'abcd'\n",
    "for i in range(len(x)):\n",
    "    x[i].upper() \n",
    "print(x)"
   ]
  },
  {
   "cell_type": "code",
   "execution_count": 17,
   "id": "ee8d2a42",
   "metadata": {},
   "outputs": [
    {
     "name": "stdout",
     "output_type": "stream",
     "text": [
      "[2, 4]\n"
     ]
    }
   ],
   "source": [
    "def foo(l1, n):\n",
    "    z = []\n",
    "    for i in range(n):\n",
    "        z.append(l1[i])\n",
    "        z.append(l1[i+n])\n",
    "        return z \n",
    "\n",
    "l1 = [2, 2, 4, 4, 2, 4, 2]\n",
    "n = 3\n",
    "if __name__ == \"__main__\": \n",
    "    print(foo(l1, n))"
   ]
  },
  {
   "cell_type": "code",
   "execution_count": 18,
   "id": "7af25d25",
   "metadata": {},
   "outputs": [
    {
     "name": "stdout",
     "output_type": "stream",
     "text": [
      "6.25\n",
      "8\n",
      "1.0\n"
     ]
    }
   ],
   "source": [
    "valueOne = 2.5 ** 2\n",
    "valueTwo = 2 ** 3\n",
    "valueThree = 2.5 ** 0\n",
    "\n",
    "print(valueOne)\n",
    "print(valueTwo)\n",
    "print(valueThree)"
   ]
  },
  {
   "cell_type": "code",
   "execution_count": 19,
   "id": "e832ee93",
   "metadata": {},
   "outputs": [
    {
     "data": {
      "text/plain": [
       "(1, 2, 3)"
      ]
     },
     "execution_count": 19,
     "metadata": {},
     "output_type": "execute_result"
    }
   ],
   "source": [
    "a,b,c=1,2,3\n",
    "a,b,c"
   ]
  },
  {
   "cell_type": "code",
   "execution_count": 20,
   "id": "15acf5fd",
   "metadata": {},
   "outputs": [
    {
     "name": "stdout",
     "output_type": "stream",
     "text": [
      "2 [4, 8, 10]\n"
     ]
    }
   ],
   "source": [
    "def my_func(nums):\n",
    "    a ,*b ,c = nums\n",
    "    return a,b\n",
    "\n",
    "\n",
    "nums = [2, 4, 8, 10, 11]\n",
    "\n",
    "if __name__ == \"__main__\":  \n",
    "    a, b= my_func(nums)\n",
    "    print(a, b)"
   ]
  },
  {
   "cell_type": "code",
   "execution_count": 21,
   "id": "b3e7cd80",
   "metadata": {},
   "outputs": [
    {
     "name": "stdout",
     "output_type": "stream",
     "text": [
      "True\n"
     ]
    }
   ],
   "source": [
    "print('1@ a'.isprintable())\n"
   ]
  },
  {
   "cell_type": "code",
   "execution_count": 22,
   "id": "858cec96",
   "metadata": {},
   "outputs": [
    {
     "name": "stdout",
     "output_type": "stream",
     "text": [
      "a "
     ]
    }
   ],
   "source": [
    "x = \"abcdef\"\n",
    "i = \"a\"\n",
    "while i in x:\n",
    "    x = x[1:]\n",
    "    print(i, end = \" \")"
   ]
  },
  {
   "cell_type": "code",
   "execution_count": 23,
   "id": "6f349ceb",
   "metadata": {},
   "outputs": [
    {
     "name": "stdout",
     "output_type": "stream",
     "text": [
      "fe-dc-ba\n"
     ]
    }
   ],
   "source": [
    "def my_func(st):\n",
    "    l1 = [ch for ch in st if ch.isalpha()]\n",
    "    return ''.join(l1.pop() if ch.isalpha() else ch for ch in st)\n",
    "\n",
    "\n",
    "st = 'ab-cd-ef'\n",
    "print(my_func(st))"
   ]
  },
  {
   "cell_type": "code",
   "execution_count": 30,
   "id": "25c6bb71",
   "metadata": {},
   "outputs": [
    {
     "ename": "SyntaxError",
     "evalue": "invalid syntax (Temp/ipykernel_6800/1363396228.py, line 7)",
     "output_type": "error",
     "traceback": [
      "\u001b[1;36m  File \u001b[1;32m\"C:\\Users\\Admin\\AppData\\Local\\Temp/ipykernel_6800/1363396228.py\"\u001b[1;36m, line \u001b[1;32m7\u001b[0m\n\u001b[1;33m    else\u001b[0m\n\u001b[1;37m    ^\u001b[0m\n\u001b[1;31mSyntaxError\u001b[0m\u001b[1;31m:\u001b[0m invalid syntax\n"
     ]
    }
   ],
   "source": [
    "def my_func(s, z):\n",
    "    total = 0\n",
    "    len_str = len(s)\n",
    "    for x, y in z:\n",
    "        if x == 0:\n",
    "            total += y\n",
    "            else:\n",
    "                total -= y\n",
    "                total = total % len_str\n",
    "                print(s[total:] + s[:total])\n",
    "                s = 'cutshort'\n",
    "                z = [[0, 3], [1, 11]]\n",
    "                if __name__ == \"__main__\":\n",
    "                    my_func(s, z)"
   ]
  },
  {
   "cell_type": "code",
   "execution_count": 31,
   "id": "e7615725",
   "metadata": {},
   "outputs": [],
   "source": [
    "circle_areas = [3.54773, 5.57778, 4.00014, 59.24241, 34.01344, 32.01013]\n",
    "\n",
    "result = list(map(round, circle_areas, range(1,3)))"
   ]
  },
  {
   "cell_type": "code",
   "execution_count": 32,
   "id": "54a4e2d8",
   "metadata": {},
   "outputs": [
    {
     "data": {
      "text/plain": [
       "[3.5, 5.58]"
      ]
     },
     "execution_count": 32,
     "metadata": {},
     "output_type": "execute_result"
    }
   ],
   "source": [
    "result"
   ]
  },
  {
   "cell_type": "code",
   "execution_count": 41,
   "id": "03f41814",
   "metadata": {},
   "outputs": [
    {
     "ename": "NameError",
     "evalue": "name 'result1' is not defined",
     "output_type": "error",
     "traceback": [
      "\u001b[1;31m---------------------------------------------------------------------------\u001b[0m",
      "\u001b[1;31mNameError\u001b[0m                                 Traceback (most recent call last)",
      "\u001b[1;32m~\\AppData\\Local\\Temp/ipykernel_6800/1593805293.py\u001b[0m in \u001b[0;36m<cell line: 9>\u001b[1;34m()\u001b[0m\n\u001b[0;32m      7\u001b[0m         \u001b[0mresult1\u001b[0m\u001b[1;33m.\u001b[0m\u001b[0mappend\u001b[0m\u001b[1;33m(\u001b[0m\u001b[0mtotal\u001b[0m\u001b[1;33m)\u001b[0m\u001b[1;33m\u001b[0m\u001b[1;33m\u001b[0m\u001b[0m\n\u001b[0;32m      8\u001b[0m         \u001b[1;32mreturn\u001b[0m \u001b[0mresult1\u001b[0m\u001b[1;33m\u001b[0m\u001b[1;33m\u001b[0m\u001b[0m\n\u001b[1;32m----> 9\u001b[1;33m \u001b[0mprint\u001b[0m\u001b[1;33m(\u001b[0m\u001b[0mresult1\u001b[0m\u001b[1;33m)\u001b[0m\u001b[1;33m\u001b[0m\u001b[1;33m\u001b[0m\u001b[0m\n\u001b[0m",
      "\u001b[1;31mNameError\u001b[0m: name 'result1' is not defined"
     ]
    }
   ],
   "source": [
    "def oddsums(n):\n",
    "    \n",
    "    total=0\n",
    "    result1=[]\n",
    "    for i in range(1,n+1):\n",
    "        odd= 2*i-1\n",
    "        total=total+odd\n",
    "        result1.append(total)\n",
    "        return result1\n"
   ]
  },
  {
   "cell_type": "code",
   "execution_count": 38,
   "id": "9c449769",
   "metadata": {},
   "outputs": [
    {
     "ename": "NameError",
     "evalue": "name 'result1' is not defined",
     "output_type": "error",
     "traceback": [
      "\u001b[1;31m---------------------------------------------------------------------------\u001b[0m",
      "\u001b[1;31mNameError\u001b[0m                                 Traceback (most recent call last)",
      "\u001b[1;32m~\\AppData\\Local\\Temp/ipykernel_6800/111804888.py\u001b[0m in \u001b[0;36m<cell line: 1>\u001b[1;34m()\u001b[0m\n\u001b[1;32m----> 1\u001b[1;33m \u001b[0mresult1\u001b[0m\u001b[1;33m\u001b[0m\u001b[1;33m\u001b[0m\u001b[0m\n\u001b[0m",
      "\u001b[1;31mNameError\u001b[0m: name 'result1' is not defined"
     ]
    }
   ],
   "source": [
    "result1"
   ]
  },
  {
   "cell_type": "code",
   "execution_count": null,
   "id": "1f33ac5d",
   "metadata": {},
   "outputs": [],
   "source": []
  }
 ],
 "metadata": {
  "kernelspec": {
   "display_name": "Python 3 (ipykernel)",
   "language": "python",
   "name": "python3"
  },
  "language_info": {
   "codemirror_mode": {
    "name": "ipython",
    "version": 3
   },
   "file_extension": ".py",
   "mimetype": "text/x-python",
   "name": "python",
   "nbconvert_exporter": "python",
   "pygments_lexer": "ipython3",
   "version": "3.9.7"
  }
 },
 "nbformat": 4,
 "nbformat_minor": 5
}
